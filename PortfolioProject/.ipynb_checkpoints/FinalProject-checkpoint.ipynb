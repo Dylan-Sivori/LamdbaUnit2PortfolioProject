{
 "cells": [
  {
   "cell_type": "markdown",
   "metadata": {},
   "source": [
    "# Import Libraries"
   ]
  },
  {
   "cell_type": "code",
   "execution_count": 1,
   "metadata": {},
   "outputs": [],
   "source": [
    "import pandas as pd\n",
    "import numpy as np\n",
    "from sklearn.metrics import mean_absolute_error, mean_squared_error, r2_score\n",
    "from sklearn.linear_model import Ridge\n",
    "from sklearn.pipeline import make_pipeline\n",
    "from category_encoders import OrdinalEncoder\n",
    "from sklearn.impute import SimpleImputer\n",
    "from sklearn.model_selection import GridSearchCV\n",
    "\n",
    "from sklearn.ensemble import GradientBoostingRegressor\n",
    "from xgboost import XGBRegressor\n",
    "from sklearn.inspection import permutation_importance\n",
    "import matplotlib.pyplot as plt\n",
    "\n",
    "from pdpbox.pdp import pdp_isolate, pdp_plot, pdp_interact, pdp_interact_plot\n",
    "from shap import TreeExplainer, initjs, force_plot"
   ]
  },
  {
   "cell_type": "markdown",
   "metadata": {},
   "source": [
    "# Wrangle Data"
   ]
  },
  {
   "cell_type": "code",
   "execution_count": 2,
   "metadata": {},
   "outputs": [],
   "source": [
    "%%capture\n",
    "import sys\n",
    "\n",
    "# If you're on Colab:\n",
    "if 'google.colab' in sys.modules:\n",
    "    DATA_PATH = 'https://raw.githubusercontent.com/LambdaSchool/DS-Unit-2-Applied-Modeling/master/data/'\n",
    "    !pip install category_encoders==2.*\n",
    "    !pip install eli5\n",
    "    !pip install pdpbox\n",
    "    !pip install shap\n",
    "\n",
    "# If you're working locally:\n",
    "else:\n",
    "    DATA_PATH = '../data/imdb/'"
   ]
  },
  {
   "cell_type": "code",
   "execution_count": 3,
   "metadata": {},
   "outputs": [],
   "source": [
    "# Read New York City property sales data\n",
    "\n",
    "# Define Wrangle Function\n",
    "def wrangle(movies_filepath, names_filepath, ratings_filepath, principals_filepath):\n",
    "    \n",
    "    #Read in the 4 csv files\n",
    "    df_movies = pd.read_csv(movies_filepath)\n",
    "    df_names = pd.read_csv(names_filepath,\n",
    "                           usecols=['imdb_name_id', 'name'])\n",
    "    df_ratings = pd.read_csv(ratings_filepath)\n",
    "    df_title_pricipals = pd.read_csv(principals_filepath)\n",
    "\n",
    "    # Drop columns that are redundant or have more than 60% null values\n",
    "    df_movies.drop(columns= ['year', 'original_title'], inplace=True)\n",
    "    df_movies.drop(83917 ,axis=0, inplace=True)\n",
    "    df_movies.dropna(axis=1, thresh=len(df_movies)*.6, inplace=True)\n",
    "    df_ratings.dropna(axis=1, thresh=len(df_ratings)*.6, inplace=True)\n",
    "    df_title_pricipals.dropna(axis=1, thresh=len(df_title_pricipals)*.6, inplace=True)\n",
    "      \n",
    "    #Convert to datetime object\n",
    "    df_movies['date_published'] = pd.to_datetime(df_movies['date_published'])\n",
    "    \n",
    "    #Merge the CSV files\n",
    "    df_movies_ratings = pd.merge(df_movies, df_ratings, on='imdb_title_id')\n",
    "    df_names_principals = pd.merge(df_names, df_title_pricipals, on='imdb_name_id')\n",
    "    df = pd.merge(df_movies_ratings, df_names_principals, on='imdb_title_id')\n",
    "    df.set_index('date_published', inplace=True)\n",
    "    \n",
    "    # Drop high cardinality columns\n",
    "    for col in df.columns:\n",
    "        if df[col].nunique() > 80_000:\n",
    "            df.drop(columns=col, inplace=True)\n",
    "    \n",
    "    #Drop Data Leakage Column\n",
    "    df.drop(columns=['avg_vote'], inplace=True)\n",
    "    \n",
    "    return df"
   ]
  },
  {
   "cell_type": "code",
   "execution_count": 4,
   "metadata": {},
   "outputs": [],
   "source": [
    "# Run Wrangle Function to read in CSV files\n",
    "df = wrangle(DATA_PATH + 'imdb_movies.csv',\n",
    "             DATA_PATH + 'imdb_names.csv',\n",
    "             DATA_PATH + 'imdb_ratings.csv',\n",
    "             DATA_PATH + 'imdb_title_principals.csv')"
   ]
  },
  {
   "cell_type": "code",
   "execution_count": 5,
   "metadata": {},
   "outputs": [],
   "source": [
    "df_movies = pd.read_csv(DATA_PATH + 'imdb_movies.csv')\n",
    "df_names = pd.read_csv(DATA_PATH + 'imdb_names.csv',\n",
    "                           usecols=['imdb_name_id', 'name'])\n",
    "df_ratings = pd.read_csv(DATA_PATH + 'imdb_ratings.csv')\n",
    "df_title_pricipals = pd.read_csv(DATA_PATH + 'imdb_title_principals.csv')"
   ]
  },
  {
   "cell_type": "code",
   "execution_count": null,
   "metadata": {
    "scrolled": true
   },
   "outputs": [],
   "source": []
  },
  {
   "cell_type": "code",
   "execution_count": 6,
   "metadata": {
    "scrolled": true
   },
   "outputs": [
    {
     "data": {
      "text/plain": [
       "(835483, 54)"
      ]
     },
     "execution_count": 6,
     "metadata": {},
     "output_type": "execute_result"
    }
   ],
   "source": [
    "df.shape"
   ]
  },
  {
   "cell_type": "code",
   "execution_count": 7,
   "metadata": {},
   "outputs": [
    {
     "data": {
      "text/plain": [
       "(835483, 52)"
      ]
     },
     "execution_count": 7,
     "metadata": {},
     "output_type": "execute_result"
    }
   ],
   "source": [
    "df.drop(columns=['ordering', 'category'], inplace=True)\n",
    "df.shape"
   ]
  },
  {
   "cell_type": "code",
   "execution_count": 8,
   "metadata": {},
   "outputs": [
    {
     "data": {
      "text/plain": [
       "(85845, 52)"
      ]
     },
     "execution_count": 8,
     "metadata": {},
     "output_type": "execute_result"
    }
   ],
   "source": [
    "df.drop_duplicates(inplace=True)\n",
    "df.shape"
   ]
  },
  {
   "cell_type": "markdown",
   "metadata": {},
   "source": [
    "# Split Data"
   ]
  },
  {
   "cell_type": "code",
   "execution_count": 9,
   "metadata": {},
   "outputs": [],
   "source": [
    "# Split data into feature matrix and target vector\n",
    "target = 'weighted_average_vote'\n",
    "\n",
    "y = df[target]\n",
    "X= df.drop(columns=target)\n",
    "\n",
    "# Train on movies published before 2018, validate on 2018, test on after 2018\n",
    "cutoff = 2018\n",
    "mask = X.index.year < cutoff\n",
    "\n",
    "X_train, y_train = X.loc[mask], y.loc[mask]\n",
    "X_val, y_val = X.loc[df.index.year == cutoff], y.loc[X.index.year == cutoff]\n",
    "X_test, y_test = X.loc[~mask], y.loc[~mask]"
   ]
  },
  {
   "cell_type": "markdown",
   "metadata": {},
   "source": [
    "# Establish Baseline"
   ]
  },
  {
   "cell_type": "code",
   "execution_count": 10,
   "metadata": {},
   "outputs": [
    {
     "name": "stdout",
     "output_type": "stream",
     "text": [
      "Baseline MAE: 0.9543148258663648\n",
      "5.916089876695121\n"
     ]
    }
   ],
   "source": [
    "y_pred = [y_train.mean()] * len(y_train)\n",
    "\n",
    "print('Baseline MAE:', mean_absolute_error(y_pred, y_train))\n",
    "print(y_train.mean())"
   ]
  },
  {
   "cell_type": "markdown",
   "metadata": {},
   "source": [
    "# Build Models"
   ]
  },
  {
   "cell_type": "code",
   "execution_count": 11,
   "metadata": {},
   "outputs": [],
   "source": [
    "#Build Ridge Model\n",
    "\n",
    "model_r = make_pipeline(OrdinalEncoder(),\n",
    "                        SimpleImputer(),\n",
    "                        Ridge(alpha=20.0))\n",
    "model_r.fit(X_train, y_train);"
   ]
  },
  {
   "cell_type": "code",
   "execution_count": 12,
   "metadata": {},
   "outputs": [],
   "source": [
    "# Build XGB boosting regressor model\n",
    "\n",
    "model_xgb= make_pipeline(OrdinalEncoder(),\n",
    "                         SimpleImputer(),\n",
    "                         XGBRegressor(n_jobs=-2))\n",
    "\n",
    "# model_xgb.fit(X_train, y_train);"
   ]
  },
  {
   "cell_type": "markdown",
   "metadata": {},
   "source": [
    "# Hyperparameter Tuning"
   ]
  },
  {
   "cell_type": "code",
   "execution_count": 13,
   "metadata": {},
   "outputs": [
    {
     "name": "stdout",
     "output_type": "stream",
     "text": [
      "Fitting 10 folds for each of 50 candidates, totalling 500 fits\n"
     ]
    }
   ],
   "source": [
    "params = {\n",
    "    'simpleimputer__strategy': ['mean', 'median'],\n",
    "    'xgbregressor__max_depth': range(2,11,2),\n",
    "    'xgbregressor__alpha': range(2,11,2)\n",
    "}\n",
    "\n",
    "model_xgb_gs = GridSearchCV(model_xgb,\n",
    "                            param_grid= params,\n",
    "                            n_jobs= -2,\n",
    "                            cv=10,\n",
    "                            verbose=1)\n",
    "\n",
    "model_xgb_gs.fit(X_train, y_train);"
   ]
  },
  {
   "cell_type": "code",
   "execution_count": 14,
   "metadata": {},
   "outputs": [
    {
     "data": {
      "text/plain": [
       "0.988025836849373"
      ]
     },
     "execution_count": 14,
     "metadata": {},
     "output_type": "execute_result"
    }
   ],
   "source": [
    "model_xgb_gs.best_score_"
   ]
  },
  {
   "cell_type": "code",
   "execution_count": 15,
   "metadata": {},
   "outputs": [
    {
     "data": {
      "text/plain": [
       "{'simpleimputer__strategy': 'mean',\n",
       " 'xgbregressor__alpha': 2,\n",
       " 'xgbregressor__max_depth': 4}"
      ]
     },
     "execution_count": 15,
     "metadata": {},
     "output_type": "execute_result"
    }
   ],
   "source": [
    "model_xgb_gs.best_params_"
   ]
  },
  {
   "cell_type": "code",
   "execution_count": null,
   "metadata": {},
   "outputs": [],
   "source": []
  },
  {
   "cell_type": "code",
   "execution_count": null,
   "metadata": {},
   "outputs": [],
   "source": []
  },
  {
   "cell_type": "markdown",
   "metadata": {},
   "source": [
    "# Check Metrics"
   ]
  },
  {
   "cell_type": "code",
   "execution_count": 16,
   "metadata": {},
   "outputs": [
    {
     "name": "stdout",
     "output_type": "stream",
     "text": [
      "Ridge Training MAE: 0.07453938618209405\n",
      "Ridge Validation MAE: 0.11939504835566946\n"
     ]
    }
   ],
   "source": [
    "print('Ridge Training MAE:', mean_absolute_error(y_train, model_r.predict(X_train)))\n",
    "print('Ridge Validation MAE:', mean_absolute_error(y_val, model_r.predict(X_val)))"
   ]
  },
  {
   "cell_type": "code",
   "execution_count": 18,
   "metadata": {},
   "outputs": [
    {
     "name": "stdout",
     "output_type": "stream",
     "text": [
      "XGBRegressor Training MAE: 0.06429189509718868\n",
      "XGBRegressor Validation MAE: 0.10874073136859216\n"
     ]
    }
   ],
   "source": [
    "print('XGBRegressor Training MAE:', mean_absolute_error(y_train, model_xgb_gs.predict(X_train)))\n",
    "print('XGBRegressor Validation MAE:', mean_absolute_error(y_val, model_xgb_gs.predict(X_val)))"
   ]
  },
  {
   "cell_type": "markdown",
   "metadata": {},
   "source": [
    "# Feature Importances"
   ]
  },
  {
   "cell_type": "code",
   "execution_count": 31,
   "metadata": {},
   "outputs": [],
   "source": [
    "coefficients = model_xgb_gs.best_estimator_.named_steps['xgbregressor'].feature_importances_\n",
    "features = model_xgb_gs.best_estimator_.named_steps['ordinalencoder'].get_feature_names()\n",
    "feature_importances = pd.Series(coefficients, index=features).sort_values(key=abs).tail(10)"
   ]
  },
  {
   "cell_type": "code",
   "execution_count": 32,
   "metadata": {},
   "outputs": [
    {
     "data": {
      "text/plain": [
       "Text(0.5, 1.0, 'Feature importances for XGBRegressor Model')"
      ]
     },
     "execution_count": 32,
     "metadata": {},
     "output_type": "execute_result"
    },
    {
     "data": {
      "image/png": "[encoded data removed]",
      "text/plain": [
       "<Figure size 432x288 with 1 Axes>"
      ]
     },
     "metadata": {
      "needs_background": "light"
     },
     "output_type": "display_data"
    }
   ],
   "source": [
    "feature_importances.plot(kind='barh')\n",
    "plt.xlabel('Feature Importances')\n",
    "plt.ylabel('Features')\n",
    "plt.title('Feature importances for XGBRegressor Model')"
   ]
  },
  {
   "cell_type": "markdown",
   "metadata": {},
   "source": [
    "# Permutation Importances"
   ]
  },
  {
   "cell_type": "code",
   "execution_count": 34,
   "metadata": {},
   "outputs": [],
   "source": [
    "perm_imp = permutation_importance(model_xgb_gs,\n",
    "                                  X_val,\n",
    "                                  y_val,\n",
    "                                  n_jobs=-2,\n",
    "                                  random_state=42)"
   ]
  },
  {
   "cell_type": "code",
   "execution_count": 35,
   "metadata": {},
   "outputs": [],
   "source": [
    "data = pd.DataFrame({'importances_mean': perm_imp['importances_mean']}, index=X_val.columns)"
   ]
  },
  {
   "cell_type": "code",
   "execution_count": 36,
   "metadata": {},
   "outputs": [
    {
     "data": {
      "text/plain": [
       "Text(0.5, 1.0, 'Permutation importances for XGBRegressor Model')"
      ]
     },
     "execution_count": 36,
     "metadata": {},
     "output_type": "execute_result"
    },
    {
     "data": {
      "image/png": "[encoded data removed]",
      "text/plain": [
       "<Figure size 432x288 with 1 Axes>"
      ]
     },
     "metadata": {
      "needs_background": "light"
     },
     "output_type": "display_data"
    }
   ],
   "source": [
    "data['importances_mean'].sort_values().tail(10).plot(kind='barh')\n",
    "plt.xlabel('Permutation Importance')\n",
    "plt.ylabel('Features')\n",
    "plt.title('Permutation importances for XGBRegressor Model')"
   ]
  },
  {
   "cell_type": "markdown",
   "metadata": {},
   "source": [
    "# 1 Feature Partial Dependence Plot"
   ]
  },
  {
   "cell_type": "code",
   "execution_count": 38,
   "metadata": {},
   "outputs": [
    {
     "data": {
      "text/plain": [
       "(<Figure size 1080x684 with 2 Axes>,\n",
       " {'title_ax': <AxesSubplot:>,\n",
       "  'pdp_ax': <AxesSubplot:xlabel='non_us_voters_rating'>})"
      ]
     },
     "execution_count": 38,
     "metadata": {},
     "output_type": "execute_result"
    },
    {
     "data": {
      "image/png": "[encoded data removed]",
      "text/plain": [
       "<Figure size 1080x684 with 2 Axes>"
      ]
     },
     "metadata": {
      "needs_background": "light"
     },
     "output_type": "display_data"
    }
   ],
   "source": [
    "feature = 'non_us_voters_rating'\n",
    "\n",
    "isolate = pdp_isolate(model = model_xgb_gs,\n",
    "                      dataset = X_val,\n",
    "                      model_features = X_val.columns,\n",
    "                     feature=feature)\n",
    "\n",
    "pdp_plot(isolate, feature_name=feature)"
   ]
  },
  {
   "cell_type": "code",
   "execution_count": null,
   "metadata": {},
   "outputs": [],
   "source": []
  },
  {
   "cell_type": "code",
   "execution_count": null,
   "metadata": {},
   "outputs": [],
   "source": []
  }
 ],
 "metadata": {
  "kernelspec": {
   "display_name": "Python 3",
   "language": "python",
   "name": "python3"
  },
  "language_info": {
   "codemirror_mode": {
    "name": "ipython",
    "version": 3
   },
   "file_extension": ".py",
   "mimetype": "text/x-python",
   "name": "python",
   "nbconvert_exporter": "python",
   "pygments_lexer": "ipython3",
   "version": "3.8.7"
  }
 },
 "nbformat": 4,
 "nbformat_minor": 4
}
